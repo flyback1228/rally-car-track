{
 "cells": [
  {
   "cell_type": "code",
   "execution_count": 14,
   "metadata": {},
   "outputs": [
    {
     "name": "stdout",
     "output_type": "stream",
     "text": [
      "['blade', 'armor']\n",
      "20\n",
      "['blade', 'armor', 'knife']\n",
      "-----------------------\n",
      "['blade', 'armor', 'knife']\n",
      "['blade', 'sword']\n",
      "['sword']\n"
     ]
    }
   ],
   "source": [
    "class Player:\n",
    "    def __init__(self,name,age=15,items=[]):\n",
    "        self.name = name\n",
    "        self.items = items\n",
    "        self.age = age\n",
    "\n",
    "    def newyear(self):\n",
    "        self.age = self.age+1\n",
    "    \n",
    "    def additem(self,something,age):\n",
    "        self.items.append(something)\n",
    "        self.age = age\n",
    "\n",
    "\n",
    "items = ['blade']\n",
    "items2 = ['blade']\n",
    "\n",
    "p1 = Player(\"Alice\",age = 16,items = items)\n",
    "p2 = Player(\"Bob\",16,items2)\n",
    "p3 = Player(\"Charles\",items=['sword'])\n",
    "\n",
    "p1.items.append('armor')\n",
    "p2.items.append('sword')\n",
    "\n",
    "print(p1.items)\n",
    "p1.newyear()\n",
    "p1.additem('knife',20)\n",
    "print(p1.age)\n",
    "print(p1.items)\n",
    "print('-----------------------')\n",
    "print(items)\n",
    "print(items2)\n",
    "print(p3.items)"
   ]
  },
  {
   "cell_type": "code",
   "execution_count": 4,
   "metadata": {},
   "outputs": [
    {
     "data": {
      "text/plain": [
       "14"
      ]
     },
     "execution_count": 4,
     "metadata": {},
     "output_type": "execute_result"
    }
   ],
   "source": [
    "import numpy as np\n",
    "alpha = np.linspace(-1,1,100)\n",
    "lamb = np.linspace(-1,1,100)\n",
    "\n",
    "fx_unity = 2.5*alpha\n",
    "index = np.where(alpha<-0.4)\n",
    "fx_unity[index] = -1.25*alpha[index]-1.5\n",
    "\n",
    "index = np.where(alpha>0.4)\n",
    "fx_unity[index] = -1.25*alpha[index]+1.5\n",
    "\n",
    "index = np.where(alpha<-0.8)\n",
    "fx_unity[index] = -0.5\n",
    "\n",
    "index = np.where(alpha>0.8)\n",
    "fx_unity[index] = 0.5\n",
    "\n",
    "a=np.array([1,2,3])\n",
    "np.dot(a,a)\n"
   ]
  },
  {
   "cell_type": "code",
   "execution_count": 4,
   "metadata": {},
   "outputs": [
    {
     "name": "stdout",
     "output_type": "stream",
     "text": [
      "8\n",
      "[2, 8, 18]\n",
      "[2, 3, 4]\n",
      "[0. 0. 0.]\n",
      "[-1, -2]\n",
      "[2, 3, 5, 6]\n",
      "0.0\n",
      "[1, 1.5]\n"
     ]
    }
   ],
   "source": [
    "import casadi\n",
    "import numpy as np\n",
    "t = casadi.MX.sym('t')\n",
    "v = 2*t*t\n",
    "f = casadi.Function('kappa',[t],[v])\n",
    "print(f(2))\n",
    "v = casadi.DM([2,3,4])\n",
    "print(f([1,2,3]))\n",
    "print(casadi.sum2(v))\n",
    "print(np.zeros(3,))\n",
    "print(1-casadi.DM([2,3]))\n",
    "\n",
    "print(casadi.veccat(casadi.DM([2,3]),casadi.DM([5,6])))\n",
    "\n",
    "print(casadi.sign(0.0))\n",
    "print(casadi.fmax(casadi.DM([0.5,1.5]),1))"
   ]
  },
  {
   "cell_type": "code",
   "execution_count": 25,
   "metadata": {},
   "outputs": [
    {
     "name": "stdout",
     "output_type": "stream",
     "text": [
      "0.000446188078143599\n"
     ]
    },
    {
     "ename": "AttributeError",
     "evalue": "'SymbolicTrack' object has no attribute 'getJac'",
     "output_type": "error",
     "traceback": [
      "\u001b[0;31m---------------------------------------------------------------------------\u001b[0m",
      "\u001b[0;31mAttributeError\u001b[0m                            Traceback (most recent call last)",
      "\u001b[1;32m/home/BU/xli185/Documents/car_control/test.ipynb Cell 4'\u001b[0m in \u001b[0;36m<cell line: 6>\u001b[0;34m()\u001b[0m\n\u001b[1;32m      <a href='vscode-notebook-cell://ssh-remote%2B128.226.79.96/home/BU/xli185/Documents/car_control/test.ipynb#ch0000003vscode-remote?line=2'>3</a>\u001b[0m track \u001b[39m=\u001b[39m SymbolicTrack(\u001b[39m'\u001b[39m\u001b[39mtracks/temp_nwh.csv\u001b[39m\u001b[39m'\u001b[39m,track_width)\n\u001b[1;32m      <a href='vscode-notebook-cell://ssh-remote%2B128.226.79.96/home/BU/xli185/Documents/car_control/test.ipynb#ch0000003vscode-remote?line=3'>4</a>\u001b[0m t \u001b[39m=\u001b[39m casadi\u001b[39m.\u001b[39mDM([\u001b[39m1\u001b[39m,\u001b[39m2\u001b[39m])\n\u001b[0;32m----> <a href='vscode-notebook-cell://ssh-remote%2B128.226.79.96/home/BU/xli185/Documents/car_control/test.ipynb#ch0000003vscode-remote?line=5'>6</a>\u001b[0m f \u001b[39m=\u001b[39m track\u001b[39m.\u001b[39;49mgetJac()\n\u001b[1;32m      <a href='vscode-notebook-cell://ssh-remote%2B128.226.79.96/home/BU/xli185/Documents/car_control/test.ipynb#ch0000003vscode-remote?line=6'>7</a>\u001b[0m \u001b[39mprint\u001b[39m(f(t))\n",
      "\u001b[0;31mAttributeError\u001b[0m: 'SymbolicTrack' object has no attribute 'getJac'"
     ]
    }
   ],
   "source": [
    "from track import*\n",
    "track_width = 5\n",
    "track = SymbolicTrack('tracks/temp_nwh.csv',track_width)\n",
    "t = casadi.DM([1,2])\n",
    "\n",
    "f = track.getJac()\n",
    "print(f(t))"
   ]
  }
 ],
 "metadata": {
  "interpreter": {
   "hash": "31f2aee4e71d21fbe5cf8b01ff0e069b9275f58929596ceb00d14d90e3e16cd6"
  },
  "kernelspec": {
   "display_name": "Python 3.8.0 64-bit",
   "language": "python",
   "name": "python3"
  },
  "language_info": {
   "codemirror_mode": {
    "name": "ipython",
    "version": 3
   },
   "file_extension": ".py",
   "mimetype": "text/x-python",
   "name": "python",
   "nbconvert_exporter": "python",
   "pygments_lexer": "ipython3",
   "version": "3.8.0"
  },
  "orig_nbformat": 4
 },
 "nbformat": 4,
 "nbformat_minor": 2
}
