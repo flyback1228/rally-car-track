{
 "cells": [
  {
   "cell_type": "code",
   "execution_count": 14,
   "metadata": {},
   "outputs": [
    {
     "name": "stdout",
     "output_type": "stream",
     "text": [
      "['blade', 'armor']\n",
      "20\n",
      "['blade', 'armor', 'knife']\n",
      "-----------------------\n",
      "['blade', 'armor', 'knife']\n",
      "['blade', 'sword']\n",
      "['sword']\n"
     ]
    }
   ],
   "source": [
    "class Player:\n",
    "    def __init__(self,name,age=15,items=[]):\n",
    "        self.name = name\n",
    "        self.items = items\n",
    "        self.age = age\n",
    "\n",
    "    def newyear(self):\n",
    "        self.age = self.age+1\n",
    "    \n",
    "    def additem(self,something,age):\n",
    "        self.items.append(something)\n",
    "        self.age = age\n",
    "\n",
    "\n",
    "items = ['blade']\n",
    "items2 = ['blade']\n",
    "\n",
    "p1 = Player(\"Alice\",age = 16,items = items)\n",
    "p2 = Player(\"Bob\",16,items2)\n",
    "p3 = Player(\"Charles\",items=['sword'])\n",
    "\n",
    "p1.items.append('armor')\n",
    "p2.items.append('sword')\n",
    "\n",
    "print(p1.items)\n",
    "p1.newyear()\n",
    "p1.additem('knife',20)\n",
    "print(p1.age)\n",
    "print(p1.items)\n",
    "print('-----------------------')\n",
    "print(items)\n",
    "print(items2)\n",
    "print(p3.items)"
   ]
  },
  {
   "cell_type": "code",
   "execution_count": 2,
   "metadata": {},
   "outputs": [
    {
     "name": "stdout",
     "output_type": "stream",
     "text": [
      "    2\n",
      "-1 x - 2 x - 5\n"
     ]
    }
   ],
   "source": [
    "import numpy as np\n",
    "alpha = np.linspace(-1,1,100)\n",
    "lamb = np.linspace(-1,1,100)\n",
    "\n",
    "fx_unity = 2.5*alpha\n",
    "index = np.where(alpha<-0.4)\n",
    "fx_unity[index] = -1.25*alpha[index]-1.5\n",
    "\n",
    "index = np.where(alpha>0.4)\n",
    "fx_unity[index] = -1.25*alpha[index]+1.5\n",
    "\n",
    "index = np.where(alpha<-0.8)\n",
    "fx_unity[index] = -0.5\n",
    "\n",
    "index = np.where(alpha>0.8)\n",
    "fx_unity[index] = 0.5\n",
    "\n",
    "a=np.array([1,2,3])\n",
    "np.dot(a,a)\n",
    "\n",
    "p = -np.poly1d([1, 2, 3])\n",
    "print(p-2)\n"
   ]
  },
  {
   "cell_type": "code",
   "execution_count": 4,
   "metadata": {},
   "outputs": [
    {
     "name": "stdout",
     "output_type": "stream",
     "text": [
      "8\n",
      "[2, 8, 18]\n",
      "[2, 3, 4]\n",
      "[0. 0. 0.]\n",
      "[-1, -2]\n",
      "[2, 3, 5, 6]\n",
      "0.0\n",
      "[1, 1.5]\n"
     ]
    }
   ],
   "source": [
    "import casadi\n",
    "import numpy as np\n",
    "t = casadi.MX.sym('t')\n",
    "v = 2*t*t\n",
    "f = casadi.Function('kappa',[t],[v])\n",
    "print(f(2))\n",
    "v = casadi.DM([2,3,4])\n",
    "print(f([1,2,3]))\n",
    "print(casadi.sum2(v))\n",
    "print(np.zeros(3,))\n",
    "print(1-casadi.DM([2,3]))\n",
    "\n",
    "print(casadi.veccat(casadi.DM([2,3]),casadi.DM([5,6])))\n",
    "\n",
    "print(casadi.sign(0.0))\n",
    "print(casadi.fmax(casadi.DM([0.5,1.5]),1))"
   ]
  },
  {
   "cell_type": "code",
   "execution_count": 10,
   "metadata": {},
   "outputs": [
    {
     "name": "stdout",
     "output_type": "stream",
     "text": [
      "[1.+1.j 2.+2.j 3.+3.j 4.+0.j 5.+5.j 6.+0.j]\n",
      "[4.+0.j 6.+0.j]\n"
     ]
    }
   ],
   "source": [
    "import numpy as np\n",
    "a = np.array([1,2])\n",
    "b = np.array([5,3])\n",
    "np.vstack([a,b])\n",
    "\n",
    "a = np.array([1+1j,2+2j,3+3j,4+0j,5+5j,6+0j])\n",
    "print(a)\n",
    "condlist = np.imag(a)==0\n",
    "print(a[condlist])"
   ]
  }
 ],
 "metadata": {
  "interpreter": {
   "hash": "31f2aee4e71d21fbe5cf8b01ff0e069b9275f58929596ceb00d14d90e3e16cd6"
  },
  "kernelspec": {
   "display_name": "Python 3.8.0 64-bit",
   "language": "python",
   "name": "python3"
  },
  "language_info": {
   "codemirror_mode": {
    "name": "ipython",
    "version": 3
   },
   "file_extension": ".py",
   "mimetype": "text/x-python",
   "name": "python",
   "nbconvert_exporter": "python",
   "pygments_lexer": "ipython3",
   "version": "3.8.10"
  },
  "orig_nbformat": 4
 },
 "nbformat": 4,
 "nbformat_minor": 2
}
