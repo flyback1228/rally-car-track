{
 "cells": [
  {
   "cell_type": "code",
   "execution_count": 14,
   "metadata": {},
   "outputs": [
    {
     "name": "stdout",
     "output_type": "stream",
     "text": [
      "['blade', 'armor']\n",
      "20\n",
      "['blade', 'armor', 'knife']\n",
      "-----------------------\n",
      "['blade', 'armor', 'knife']\n",
      "['blade', 'sword']\n",
      "['sword']\n"
     ]
    }
   ],
   "source": [
    "class Player:\n",
    "    def __init__(self,name,age=15,items=[]):\n",
    "        self.name = name\n",
    "        self.items = items\n",
    "        self.age = age\n",
    "\n",
    "    def newyear(self):\n",
    "        self.age = self.age+1\n",
    "    \n",
    "    def additem(self,something,age):\n",
    "        self.items.append(something)\n",
    "        self.age = age\n",
    "\n",
    "\n",
    "items = ['blade']\n",
    "items2 = ['blade']\n",
    "\n",
    "p1 = Player(\"Alice\",age = 16,items = items)\n",
    "p2 = Player(\"Bob\",16,items2)\n",
    "p3 = Player(\"Charles\",items=['sword'])\n",
    "\n",
    "p1.items.append('armor')\n",
    "p2.items.append('sword')\n",
    "\n",
    "print(p1.items)\n",
    "p1.newyear()\n",
    "p1.additem('knife',20)\n",
    "print(p1.age)\n",
    "print(p1.items)\n",
    "print('-----------------------')\n",
    "print(items)\n",
    "print(items2)\n",
    "print(p3.items)"
   ]
  }
 ],
 "metadata": {
  "interpreter": {
   "hash": "31f2aee4e71d21fbe5cf8b01ff0e069b9275f58929596ceb00d14d90e3e16cd6"
  },
  "kernelspec": {
   "display_name": "Python 3.8.0 64-bit",
   "language": "python",
   "name": "python3"
  },
  "language_info": {
   "codemirror_mode": {
    "name": "ipython",
    "version": 3
   },
   "file_extension": ".py",
   "mimetype": "text/x-python",
   "name": "python",
   "nbconvert_exporter": "python",
   "pygments_lexer": "ipython3",
   "version": "3.8.0"
  },
  "orig_nbformat": 4
 },
 "nbformat": 4,
 "nbformat_minor": 2
}
